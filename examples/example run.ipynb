{
 "cells": [
  {
   "cell_type": "code",
   "execution_count": 1,
   "metadata": {},
   "outputs": [],
   "source": [
    "import os\n",
    "import sys\n",
    "import rasterio as rio\n",
    "import numpy as np\n",
    "from rasterio.features import shapes\n",
    "import geopandas as gpd\n",
    "import pandas as pd\n",
    "from tqdm import tqdm\n",
    "from rasterstats import point_query\n",
    "import country_converter as coco\n",
    "cc = coco.CountryConverter()"
   ]
  },
  {
   "cell_type": "code",
   "execution_count": 2,
   "metadata": {},
   "outputs": [],
   "source": [
    "# make connection to all the scripts\n",
    "sys.path.append(os.path.join( '..'))\n",
    "from scripts.utils import load_config,create_folder_structure,get_num\n",
    "from scripts.analyze import losses,exposure\n",
    "from scripts.functions import get_storm_data,poly_files,clip_osm,clip_landuse,fetch_roads,storm_exposure"
   ]
  },
  {
   "cell_type": "code",
   "execution_count": 3,
   "metadata": {},
   "outputs": [],
   "source": [
    "# make connection to the data paths\n",
    "data_path = load_config()['paths']['data']\n",
    "storms_path =  load_config()['paths']['hazard_data']    "
   ]
  },
  {
   "cell_type": "code",
   "execution_count": 4,
   "metadata": {},
   "outputs": [],
   "source": [
    "# set country\n",
    "country = 'LU'"
   ]
  },
  {
   "cell_type": "code",
   "execution_count": 5,
   "metadata": {},
   "outputs": [],
   "source": [
    "#set folder structure for calculation\n",
    "create_folder_structure(data_path,country)"
   ]
  },
  {
   "cell_type": "code",
   "execution_count": 6,
   "metadata": {},
   "outputs": [
    {
     "name": "stdout",
     "output_type": "stream",
     "text": [
      "F:\\Dropbox\\VU_DATA\\WISC_v2\\LU\\NUTS2_OSM\\LU00.osm.pbf started!\n",
      "F:\\Dropbox\\VU_DATA\\WISC_v2\\LU\\NUTS2_OSM\\LU00.osm.pbf finished!\n",
      "Wall time: 3min 33s\n"
     ]
    }
   ],
   "source": [
    "%%time\n",
    "gdf = exposure(country, include_storms = True, parallel = False,save=True)"
   ]
  },
  {
   "cell_type": "code",
   "execution_count": 10,
   "metadata": {},
   "outputs": [
    {
     "data": {
      "text/html": [
       "<div>\n",
       "<style scoped>\n",
       "    .dataframe tbody tr th:only-of-type {\n",
       "        vertical-align: middle;\n",
       "    }\n",
       "\n",
       "    .dataframe tbody tr th {\n",
       "        vertical-align: top;\n",
       "    }\n",
       "\n",
       "    .dataframe thead th {\n",
       "        text-align: right;\n",
       "    }\n",
       "</style>\n",
       "<table border=\"1\" class=\"dataframe\">\n",
       "  <thead>\n",
       "    <tr style=\"text-align: right;\">\n",
       "      <th></th>\n",
       "      <th>osm_id</th>\n",
       "      <th>building</th>\n",
       "      <th>amenity</th>\n",
       "      <th>geometry</th>\n",
       "      <th>COUNTRY</th>\n",
       "      <th>ID_</th>\n",
       "      <th>AREA_m2</th>\n",
       "      <th>CLC_2012</th>\n",
       "      <th>1981110215</th>\n",
       "      <th>1983011812</th>\n",
       "      <th>1983020118</th>\n",
       "      <th>1984011303</th>\n",
       "      <th>1984011421</th>\n",
       "    </tr>\n",
       "  </thead>\n",
       "  <tbody>\n",
       "    <tr>\n",
       "      <th>0</th>\n",
       "      <td>15837</td>\n",
       "      <td>yes</td>\n",
       "      <td>None</td>\n",
       "      <td>(POLYGON ((4041226.858230331 2951186.770884426...</td>\n",
       "      <td>LU</td>\n",
       "      <td>0_LU00</td>\n",
       "      <td>4475.511157</td>\n",
       "      <td>1.0</td>\n",
       "      <td>11.25</td>\n",
       "      <td>16.000</td>\n",
       "      <td>25.0</td>\n",
       "      <td>22.750</td>\n",
       "      <td>23.875</td>\n",
       "    </tr>\n",
       "    <tr>\n",
       "      <th>1</th>\n",
       "      <td>29659</td>\n",
       "      <td>yes</td>\n",
       "      <td>bank</td>\n",
       "      <td>(POLYGON ((4041255.208764243 2951198.095257116...</td>\n",
       "      <td>LU</td>\n",
       "      <td>1_LU00</td>\n",
       "      <td>2934.859511</td>\n",
       "      <td>1.0</td>\n",
       "      <td>11.25</td>\n",
       "      <td>16.000</td>\n",
       "      <td>25.0</td>\n",
       "      <td>22.750</td>\n",
       "      <td>23.875</td>\n",
       "    </tr>\n",
       "    <tr>\n",
       "      <th>2</th>\n",
       "      <td>452628</td>\n",
       "      <td>yes</td>\n",
       "      <td>courthouse</td>\n",
       "      <td>(POLYGON ((4041622.214838265 2951259.5555122, ...</td>\n",
       "      <td>LU</td>\n",
       "      <td>2_LU00</td>\n",
       "      <td>1804.617327</td>\n",
       "      <td>1.0</td>\n",
       "      <td>11.25</td>\n",
       "      <td>16.000</td>\n",
       "      <td>25.0</td>\n",
       "      <td>22.750</td>\n",
       "      <td>23.875</td>\n",
       "    </tr>\n",
       "    <tr>\n",
       "      <th>3</th>\n",
       "      <td>1086459</td>\n",
       "      <td>yes</td>\n",
       "      <td>None</td>\n",
       "      <td>(POLYGON ((4027319.708238156 2940775.189977427...</td>\n",
       "      <td>LU</td>\n",
       "      <td>3_LU00</td>\n",
       "      <td>5869.639401</td>\n",
       "      <td>2.0</td>\n",
       "      <td>11.75</td>\n",
       "      <td>18.125</td>\n",
       "      <td>26.0</td>\n",
       "      <td>24.375</td>\n",
       "      <td>25.125</td>\n",
       "    </tr>\n",
       "    <tr>\n",
       "      <th>4</th>\n",
       "      <td>1686713</td>\n",
       "      <td>public</td>\n",
       "      <td>None</td>\n",
       "      <td>(POLYGON ((4042237.739494157 2952313.435510729...</td>\n",
       "      <td>LU</td>\n",
       "      <td>4_LU00</td>\n",
       "      <td>3493.890721</td>\n",
       "      <td>3.0</td>\n",
       "      <td>11.25</td>\n",
       "      <td>16.000</td>\n",
       "      <td>25.0</td>\n",
       "      <td>22.750</td>\n",
       "      <td>23.875</td>\n",
       "    </tr>\n",
       "  </tbody>\n",
       "</table>\n",
       "</div>"
      ],
      "text/plain": [
       "    osm_id building     amenity  \\\n",
       "0    15837      yes        None   \n",
       "1    29659      yes        bank   \n",
       "2   452628      yes  courthouse   \n",
       "3  1086459      yes        None   \n",
       "4  1686713   public        None   \n",
       "\n",
       "                                            geometry COUNTRY     ID_  \\\n",
       "0  (POLYGON ((4041226.858230331 2951186.770884426...      LU  0_LU00   \n",
       "1  (POLYGON ((4041255.208764243 2951198.095257116...      LU  1_LU00   \n",
       "2  (POLYGON ((4041622.214838265 2951259.5555122, ...      LU  2_LU00   \n",
       "3  (POLYGON ((4027319.708238156 2940775.189977427...      LU  3_LU00   \n",
       "4  (POLYGON ((4042237.739494157 2952313.435510729...      LU  4_LU00   \n",
       "\n",
       "       AREA_m2  CLC_2012  1981110215  1983011812  1983020118  1984011303  \\\n",
       "0  4475.511157       1.0       11.25      16.000        25.0      22.750   \n",
       "1  2934.859511       1.0       11.25      16.000        25.0      22.750   \n",
       "2  1804.617327       1.0       11.25      16.000        25.0      22.750   \n",
       "3  5869.639401       2.0       11.75      18.125        26.0      24.375   \n",
       "4  3493.890721       3.0       11.25      16.000        25.0      22.750   \n",
       "\n",
       "   1984011421  \n",
       "0      23.875  \n",
       "1      23.875  \n",
       "2      23.875  \n",
       "3      25.125  \n",
       "4      23.875  "
      ]
     },
     "execution_count": 10,
     "metadata": {},
     "output_type": "execute_result"
    }
   ],
   "source": [
    "gdf.head()"
   ]
  },
  {
   "cell_type": "code",
   "execution_count": 8,
   "metadata": {},
   "outputs": [],
   "source": [
    "gdf.drop(['centroid'],axis='columns',inplace=True)\n"
   ]
  },
  {
   "cell_type": "code",
   "execution_count": 9,
   "metadata": {},
   "outputs": [],
   "source": [
    "gdf.to_file(os.path.join(data_path,'output','losses_{}.shp'.format(country)))\n"
   ]
  },
  {
   "cell_type": "code",
   "execution_count": null,
   "metadata": {},
   "outputs": [],
   "source": []
  }
 ],
 "metadata": {
  "kernelspec": {
   "display_name": "Python 3",
   "language": "python",
   "name": "python3"
  },
  "language_info": {
   "codemirror_mode": {
    "name": "ipython",
    "version": 3
   },
   "file_extension": ".py",
   "mimetype": "text/x-python",
   "name": "python",
   "nbconvert_exporter": "python",
   "pygments_lexer": "ipython3",
   "version": "3.6.5"
  }
 },
 "nbformat": 4,
 "nbformat_minor": 2
}
