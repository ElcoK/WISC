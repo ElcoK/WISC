{
 "cells": [
  {
   "cell_type": "code",
   "execution_count": 8,
   "metadata": {},
   "outputs": [],
   "source": [
    "import os\n",
    "import sys\n",
    "import rasterio as rio\n",
    "import numpy as np\n",
    "from rasterio.features import shapes\n",
    "import geopandas as gpd\n",
    "import pandas as pd\n",
    "from tqdm import tqdm\n",
    "from rasterstats import point_query\n",
    "import country_converter as coco\n",
    "cc = coco.CountryConverter()"
   ]
  },
  {
   "cell_type": "code",
   "execution_count": 9,
   "metadata": {},
   "outputs": [],
   "source": [
    "# make connection to all the scripts\n",
    "sys.path.append(os.path.join( '..'))\n",
    "from scripts.utils import load_config,create_folder_structure,get_num\n",
    "from scripts.analyze import losses,exposure\n",
    "from scripts.functions import get_storm_data,poly_files,clip_osm,clip_landuse,fetch_roads,storm_exposure"
   ]
  },
  {
   "cell_type": "code",
   "execution_count": 10,
   "metadata": {},
   "outputs": [],
   "source": [
    "# make connection to the data paths\n",
    "data_path = load_config()['paths']['data']\n",
    "storms_path =  load_config()['paths']['hazard_data']    "
   ]
  },
  {
   "cell_type": "code",
   "execution_count": 11,
   "metadata": {},
   "outputs": [],
   "source": [
    "# set country\n",
    "country = 'LU'"
   ]
  },
  {
   "cell_type": "code",
   "execution_count": 12,
   "metadata": {},
   "outputs": [],
   "source": [
    "#set folder structure for calculation\n",
    "create_folder_structure(data_path,country)"
   ]
  },
  {
   "cell_type": "code",
   "execution_count": 14,
   "metadata": {},
   "outputs": [
    {
     "name": "stdout",
     "output_type": "stream",
     "text": [
      "F:\\Dropbox\\VU_DATA\\WISC_v2\\LU\\NUTS2_OSM\\LU00.osm.pbf started!\n",
      "F:\\Dropbox\\VU_DATA\\WISC_v2\\LU\\NUTS2_OSM\\LU00.osm.pbf finished!\n",
      "Wall time: 3min 31s\n"
     ]
    }
   ],
   "source": [
    "%%time\n",
    "gdf = losses(country, parallel = False,save=True)"
   ]
  },
  {
   "cell_type": "code",
   "execution_count": 15,
   "metadata": {},
   "outputs": [
    {
     "data": {
      "text/html": [
       "<div>\n",
       "<style scoped>\n",
       "    .dataframe tbody tr th:only-of-type {\n",
       "        vertical-align: middle;\n",
       "    }\n",
       "\n",
       "    .dataframe tbody tr th {\n",
       "        vertical-align: top;\n",
       "    }\n",
       "\n",
       "    .dataframe thead th {\n",
       "        text-align: right;\n",
       "    }\n",
       "</style>\n",
       "<table border=\"1\" class=\"dataframe\">\n",
       "  <thead>\n",
       "    <tr style=\"text-align: right;\">\n",
       "      <th></th>\n",
       "      <th>geometry</th>\n",
       "      <th>building</th>\n",
       "      <th>AREA_m2</th>\n",
       "      <th>amenity</th>\n",
       "      <th>osm_id</th>\n",
       "      <th>centroid</th>\n",
       "      <th>CLC_2012</th>\n",
       "      <th>COUNTRY</th>\n",
       "      <th>ID_</th>\n",
       "      <th>1981110215</th>\n",
       "      <th>1983011812</th>\n",
       "      <th>1983020118</th>\n",
       "      <th>1984011303</th>\n",
       "      <th>1984011421</th>\n",
       "    </tr>\n",
       "  </thead>\n",
       "  <tbody>\n",
       "    <tr>\n",
       "      <th>0</th>\n",
       "      <td>(POLYGON ((4041226.858230331 2951186.770884426...</td>\n",
       "      <td>yes</td>\n",
       "      <td>4475.511157</td>\n",
       "      <td>None</td>\n",
       "      <td>15837</td>\n",
       "      <td>POINT (4041205.801354027 2951146.126858424)</td>\n",
       "      <td>1.0</td>\n",
       "      <td>LU</td>\n",
       "      <td>0_LU00</td>\n",
       "      <td>0</td>\n",
       "      <td>0</td>\n",
       "      <td>0</td>\n",
       "      <td>0</td>\n",
       "      <td>0</td>\n",
       "    </tr>\n",
       "    <tr>\n",
       "      <th>1</th>\n",
       "      <td>(POLYGON ((4041255.208764243 2951198.095257116...</td>\n",
       "      <td>yes</td>\n",
       "      <td>2934.859511</td>\n",
       "      <td>bank</td>\n",
       "      <td>29659</td>\n",
       "      <td>POINT (4041290.406839197 2951183.074225526)</td>\n",
       "      <td>1.0</td>\n",
       "      <td>LU</td>\n",
       "      <td>1_LU00</td>\n",
       "      <td>0</td>\n",
       "      <td>0</td>\n",
       "      <td>0</td>\n",
       "      <td>0</td>\n",
       "      <td>0</td>\n",
       "    </tr>\n",
       "    <tr>\n",
       "      <th>2</th>\n",
       "      <td>(POLYGON ((4041622.214838265 2951259.5555122, ...</td>\n",
       "      <td>yes</td>\n",
       "      <td>1804.617327</td>\n",
       "      <td>courthouse</td>\n",
       "      <td>452628</td>\n",
       "      <td>POINT (4041639.736955036 2951240.31680993)</td>\n",
       "      <td>1.0</td>\n",
       "      <td>LU</td>\n",
       "      <td>2_LU00</td>\n",
       "      <td>0</td>\n",
       "      <td>0</td>\n",
       "      <td>0</td>\n",
       "      <td>0</td>\n",
       "      <td>0</td>\n",
       "    </tr>\n",
       "    <tr>\n",
       "      <th>3</th>\n",
       "      <td>(POLYGON ((4027319.708238156 2940775.189977427...</td>\n",
       "      <td>yes</td>\n",
       "      <td>5869.639401</td>\n",
       "      <td>None</td>\n",
       "      <td>1086459</td>\n",
       "      <td>POINT (4027323.087637324 2940702.05108906)</td>\n",
       "      <td>2.0</td>\n",
       "      <td>LU</td>\n",
       "      <td>3_LU00</td>\n",
       "      <td>0</td>\n",
       "      <td>0</td>\n",
       "      <td>0</td>\n",
       "      <td>0</td>\n",
       "      <td>0</td>\n",
       "    </tr>\n",
       "    <tr>\n",
       "      <th>4</th>\n",
       "      <td>(POLYGON ((4042237.739494157 2952313.435510729...</td>\n",
       "      <td>public</td>\n",
       "      <td>3493.890721</td>\n",
       "      <td>None</td>\n",
       "      <td>1686713</td>\n",
       "      <td>POINT (4042257.25046226 2952363.670793177)</td>\n",
       "      <td>3.0</td>\n",
       "      <td>LU</td>\n",
       "      <td>4_LU00</td>\n",
       "      <td>0</td>\n",
       "      <td>0</td>\n",
       "      <td>0</td>\n",
       "      <td>0</td>\n",
       "      <td>0</td>\n",
       "    </tr>\n",
       "  </tbody>\n",
       "</table>\n",
       "</div>"
      ],
      "text/plain": [
       "                                            geometry building      AREA_m2  \\\n",
       "0  (POLYGON ((4041226.858230331 2951186.770884426...      yes  4475.511157   \n",
       "1  (POLYGON ((4041255.208764243 2951198.095257116...      yes  2934.859511   \n",
       "2  (POLYGON ((4041622.214838265 2951259.5555122, ...      yes  1804.617327   \n",
       "3  (POLYGON ((4027319.708238156 2940775.189977427...      yes  5869.639401   \n",
       "4  (POLYGON ((4042237.739494157 2952313.435510729...   public  3493.890721   \n",
       "\n",
       "      amenity   osm_id                                     centroid  CLC_2012  \\\n",
       "0        None    15837  POINT (4041205.801354027 2951146.126858424)       1.0   \n",
       "1        bank    29659  POINT (4041290.406839197 2951183.074225526)       1.0   \n",
       "2  courthouse   452628   POINT (4041639.736955036 2951240.31680993)       1.0   \n",
       "3        None  1086459   POINT (4027323.087637324 2940702.05108906)       2.0   \n",
       "4        None  1686713   POINT (4042257.25046226 2952363.670793177)       3.0   \n",
       "\n",
       "  COUNTRY     ID_  1981110215  1983011812  1983020118  1984011303  1984011421  \n",
       "0      LU  0_LU00           0           0           0           0           0  \n",
       "1      LU  1_LU00           0           0           0           0           0  \n",
       "2      LU  2_LU00           0           0           0           0           0  \n",
       "3      LU  3_LU00           0           0           0           0           0  \n",
       "4      LU  4_LU00           0           0           0           0           0  "
      ]
     },
     "execution_count": 15,
     "metadata": {},
     "output_type": "execute_result"
    }
   ],
   "source": [
    "gdf.head()"
   ]
  },
  {
   "cell_type": "code",
   "execution_count": 16,
   "metadata": {},
   "outputs": [],
   "source": [
    "gdf.drop(['centroid'],axis='columns',inplace=True)"
   ]
  },
  {
   "cell_type": "code",
   "execution_count": 17,
   "metadata": {},
   "outputs": [],
   "source": [
    "gdf.to_file(os.path.join(data_path,'output','losses_{}.shp'.format(country)))"
   ]
  },
  {
   "cell_type": "code",
   "execution_count": null,
   "metadata": {},
   "outputs": [],
   "source": []
  }
 ],
 "metadata": {
  "kernelspec": {
   "display_name": "Python 3",
   "language": "python",
   "name": "python3"
  },
  "language_info": {
   "codemirror_mode": {
    "name": "ipython",
    "version": 3
   },
   "file_extension": ".py",
   "mimetype": "text/x-python",
   "name": "python",
   "nbconvert_exporter": "python",
   "pygments_lexer": "ipython3",
   "version": "3.6.5"
  }
 },
 "nbformat": 4,
 "nbformat_minor": 2
}
