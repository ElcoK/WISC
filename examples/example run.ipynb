{
 "cells": [
  {
   "cell_type": "code",
   "execution_count": 1,
   "metadata": {},
   "outputs": [],
   "source": [
    "import os\n",
    "import sys\n",
    "import rasterio as rio\n",
    "import numpy as np\n",
    "from rasterio.features import shapes\n",
    "import geopandas as gpd\n",
    "import pandas as pd\n",
    "from tqdm import tqdm\n",
    "from rasterstats import point_query"
   ]
  },
  {
   "cell_type": "code",
   "execution_count": 2,
   "metadata": {},
   "outputs": [],
   "source": [
    "# make connection to all the scripts\n",
    "sys.path.append(os.path.join( '..'))\n",
    "from scripts.utils import load_config,create_folder_structure,get_num\n",
    "from scripts.analyze import losses,exposure\n",
    "from scripts.prepare import get_storm_data,poly_files,clip_osm,clip_landuse,fetch_roads,storm_exposure"
   ]
  },
  {
   "cell_type": "code",
   "execution_count": 3,
   "metadata": {},
   "outputs": [],
   "source": [
    "# make connection to the data paths\n",
    "data_path = load_config()['paths']['data']\n",
    "storms_path =  load_config()['paths']['hazard_data']    "
   ]
  },
  {
   "cell_type": "code",
   "execution_count": 4,
   "metadata": {},
   "outputs": [],
   "source": [
    "# set country\n",
    "country = 'IE'"
   ]
  },
  {
   "cell_type": "code",
   "execution_count": 5,
   "metadata": {},
   "outputs": [],
   "source": [
    "#set folder structure for calculation\n",
    "create_folder_structure(data_path,country)"
   ]
  },
  {
   "cell_type": "code",
   "execution_count": null,
   "metadata": {},
   "outputs": [
    {
     "name": "stdout",
     "output_type": "stream",
     "text": [
      "F:\\Dropbox\\VU_DATA\\WISC_v2\\IE\\NUTS2_OSM\\IE01.osm.pbf started!\n",
      "F:\\Dropbox\\VU_DATA\\WISC_v2\\IE\\NUTS2_OSM\\IE01.osm.pbf finished!\n"
     ]
    }
   ],
   "source": [
    "%%time\n",
    "gdf = exposure(country, include_storms = True, parallel = False)"
   ]
  },
  {
   "cell_type": "code",
   "execution_count": null,
   "metadata": {},
   "outputs": [],
   "source": [
    "gdf.head()"
   ]
  },
  {
   "cell_type": "code",
   "execution_count": null,
   "metadata": {},
   "outputs": [],
   "source": []
  }
 ],
 "metadata": {
  "kernelspec": {
   "display_name": "Python 3",
   "language": "python",
   "name": "python3"
  },
  "language_info": {
   "codemirror_mode": {
    "name": "ipython",
    "version": 3
   },
   "file_extension": ".py",
   "mimetype": "text/x-python",
   "name": "python",
   "nbconvert_exporter": "python",
   "pygments_lexer": "ipython3",
   "version": "3.6.3"
  }
 },
 "nbformat": 4,
 "nbformat_minor": 2
}
